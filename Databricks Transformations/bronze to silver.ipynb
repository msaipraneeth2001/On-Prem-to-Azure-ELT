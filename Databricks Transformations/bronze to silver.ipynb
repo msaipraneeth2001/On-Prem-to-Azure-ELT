{
 "cells": [
  {
   "cell_type": "markdown",
   "metadata": {
    "application/vnd.databricks.v1+cell": {
     "cellMetadata": {
      "byteLimit": 2048000,
      "rowLimit": 10000
     },
     "inputWidgets": {},
     "nuid": "8ef73ce6-c507-4a3f-a0fe-062173cba96d",
     "showTitle": false,
     "title": ""
    }
   },
   "source": [
    "## Doing Transformtion for all tables"
   ]
  },
  {
   "cell_type": "code",
   "execution_count": null,
   "metadata": {
    "application/vnd.databricks.v1+cell": {
     "cellMetadata": {
      "byteLimit": 2048000,
      "rowLimit": 10000
     },
     "inputWidgets": {},
     "nuid": "a5392d2a-3fef-4fdf-99f2-143c16647a07",
     "showTitle": false,
     "title": ""
    }
   },
   "outputs": [],
   "source": [
    "input_path = \"dbfs:/mnt/bronze-parquet/SalesLT/\""
   ]
  },
  {
   "cell_type": "code",
   "execution_count": null,
   "metadata": {
    "application/vnd.databricks.v1+cell": {
     "cellMetadata": {
      "byteLimit": 2048000,
      "rowLimit": 10000
     },
     "inputWidgets": {},
     "nuid": "aabbeb17-9a23-4518-b12b-13cd25512f51",
     "showTitle": false,
     "title": ""
    }
   },
   "outputs": [],
   "source": [
    "table_name = []\n",
    "for i in dbutils.fs.ls(input_path):\n",
    "  table_name.append(i.name.split(\"/\")[0])"
   ]
  },
  {
   "cell_type": "code",
   "execution_count": null,
   "metadata": {
    "application/vnd.databricks.v1+cell": {
     "cellMetadata": {
      "byteLimit": 2048000,
      "rowLimit": 10000
     },
     "inputWidgets": {},
     "nuid": "26554dc8-4d0d-4024-8413-b011d86333b0",
     "showTitle": false,
     "title": ""
    }
   },
   "outputs": [],
   "source": [
    "table_name"
   ]
  },
  {
   "cell_type": "code",
   "execution_count": null,
   "metadata": {
    "application/vnd.databricks.v1+cell": {
     "cellMetadata": {
      "byteLimit": 2048000,
      "rowLimit": 10000
     },
     "inputWidgets": {},
     "nuid": "42bb1052-cc03-4aa2-8df7-9b3fe1c3057a",
     "showTitle": false,
     "title": ""
    }
   },
   "outputs": [],
   "source": [
    "from pyspark.sql.functions import from_utc_timestamp, date_format\n",
    "from pyspark.sql.types import TimestampType\n",
    "\n",
    "for i in table_name:\n",
    "  df = spark.read.format('parquet').load(input_path+i+'/'+i+'.parquet')\n",
    "  if i==\"Product\":\n",
    "    df = df.drop(\"ThumbNailPhoto\")\n",
    "  column = df.columns\n",
    "\n",
    "  for col in column:\n",
    "    if \"Date\" in col or \"date\" in col:\n",
    "      df = df.withColumn(col, date_format(from_utc_timestamp(df[col].cast(TimestampType()), \"UTC\"), \"yyyy-MM-dd\"))\n",
    "  output_path = '/mnt/silver/SalesLT/'+ i +'/'\n",
    "  df.write.format(\"delta\").mode(\"overwrite\").save(output_path)\n",
    "                                          "
   ]
  }
 ],
 "metadata": {
  "application/vnd.databricks.v1+notebook": {
   "dashboards": [],
   "environmentMetadata": null,
   "language": "python",
   "notebookMetadata": {
    "pythonIndentUnit": 4
   },
   "notebookName": "bronze to silver",
   "widgets": {}
  },
  "language_info": {
   "name": "python"
  }
 },
 "nbformat": 4,
 "nbformat_minor": 0
}
